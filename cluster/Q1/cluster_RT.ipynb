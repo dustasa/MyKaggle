{
 "cells": [
  {
   "cell_type": "code",
   "execution_count": 1,
   "id": "5fa15609",
   "metadata": {},
   "outputs": [],
   "source": [
    "import pandas as pd\n",
    "import numpy as np\n",
    "import random as rd\n",
    "import matplotlib.pyplot as plt\n",
    "from IPython.core.interactiveshell import InteractiveShell  # 显示所有输出\n",
    "InteractiveShell.ast_node_interactivity = \"all\" \n",
    "\n",
    "data = pd.read_csv(\"films.csv\")\n",
    "X = data[[\"Rank\",\"Time\"]]"
   ]
  },
  {
   "cell_type": "code",
   "execution_count": 2,
   "id": "55398f4b",
   "metadata": {},
   "outputs": [
    {
     "data": {
      "text/plain": [
       "<Figure size 900x600 with 0 Axes>"
      ]
     },
     "execution_count": 2,
     "metadata": {},
     "output_type": "execute_result"
    },
    {
     "data": {
      "text/plain": [
       "<matplotlib.collections.PathCollection at 0x1151cb775e0>"
      ]
     },
     "execution_count": 2,
     "metadata": {},
     "output_type": "execute_result"
    },
    {
     "data": {
      "text/plain": [
       "Text(0.5, 0, 'Rank')"
      ]
     },
     "execution_count": 2,
     "metadata": {},
     "output_type": "execute_result"
    },
    {
     "data": {
      "text/plain": [
       "Text(0, 0.5, 'Time (minute)')"
      ]
     },
     "execution_count": 2,
     "metadata": {},
     "output_type": "execute_result"
    },
    {
     "data": {
      "image/png": "[encoded data removed]",
      "text/plain": [
       "<Figure size 900x600 with 1 Axes>"
      ]
     },
     "metadata": {
      "needs_background": "light"
     },
     "output_type": "display_data"
    }
   ],
   "source": [
    "#Visualise data points\n",
    "plt.figure(dpi=150)\n",
    "\n",
    "plt.scatter(X[\"Rank\"],X[\"Time\"],c='blue')\n",
    "plt.xlabel('Rank')\n",
    "plt.ylabel('Time (minute)')\n",
    "plt.savefig('C:\\\\Users\\AoSun\\Desktop\\cluster\\R-T cluster1.png',bbox_inches = 'tight')\n",
    "plt.show()"
   ]
  },
  {
   "cell_type": "code",
   "execution_count": 3,
   "id": "c94f8370",
   "metadata": {},
   "outputs": [],
   "source": [
    "from sklearn import preprocessing"
   ]
  },
  {
   "cell_type": "code",
   "execution_count": 4,
   "id": "67274689",
   "metadata": {},
   "outputs": [],
   "source": [
    "X_scale = X.values[:,1]"
   ]
  },
  {
   "cell_type": "code",
   "execution_count": 5,
   "id": "a20d984d",
   "metadata": {},
   "outputs": [
    {
     "data": {
      "text/plain": [
       "array([1.7       , 2.18333333, 2.93333333, 2.4       , 2.28333333,\n",
       "       2.26666667, 2.6       , 2.05      , 2.63333333, 2.73333333,\n",
       "       1.35      , 1.66666667, 1.75      , 2.05      , 2.03333333,\n",
       "       1.85      , 2.13333333, 1.9       , 1.78333333, 2.11666667,\n",
       "       1.68333333, 1.43333333, 1.56666667, 1.6       , 1.4       ,\n",
       "       1.98333333, 1.58333333, 1.6       , 1.5       , 1.63333333,\n",
       "       1.55      , 1.9       , 1.5       , 1.91666667, 1.48333333,\n",
       "       1.41666667, 1.68333333, 1.38333333, 1.43333333, 1.48333333,\n",
       "       1.9       , 1.41666667, 1.83333333, 1.5       , 1.56666667,\n",
       "       1.56666667, 1.43333333])"
      ]
     },
     "execution_count": 5,
     "metadata": {},
     "output_type": "execute_result"
    }
   ],
   "source": [
    "X_scale"
   ]
  },
  {
   "cell_type": "code",
   "execution_count": 6,
   "id": "68f9db64",
   "metadata": {},
   "outputs": [],
   "source": [
    "scaler = preprocessing.StandardScaler().fit(X_scale.reshape(-1,1))"
   ]
  },
  {
   "cell_type": "code",
   "execution_count": 7,
   "id": "b743094c",
   "metadata": {},
   "outputs": [
    {
     "name": "stdout",
     "output_type": "stream",
     "text": [
      "[1.81631206]\n",
      "[0.38729054]\n"
     ]
    }
   ],
   "source": [
    "print(scaler.mean_)\n",
    "print(scaler.scale_)"
   ]
  },
  {
   "cell_type": "code",
   "execution_count": 8,
   "id": "8001ffa8",
   "metadata": {},
   "outputs": [],
   "source": [
    "X_scaled = scaler.transform(X_scale.reshape(-1,1))"
   ]
  },
  {
   "cell_type": "code",
   "execution_count": 9,
   "id": "10ca14ef",
   "metadata": {},
   "outputs": [
    {
     "data": {
      "text/plain": [
       "(47, 1)"
      ]
     },
     "execution_count": 9,
     "metadata": {},
     "output_type": "execute_result"
    }
   ],
   "source": [
    "X_scale.reshape(-1,1).shape"
   ]
  },
  {
   "cell_type": "code",
   "execution_count": 10,
   "id": "20fe024f",
   "metadata": {},
   "outputs": [
    {
     "data": {
      "text/plain": [
       "(47, 1)"
      ]
     },
     "execution_count": 10,
     "metadata": {},
     "output_type": "execute_result"
    }
   ],
   "source": [
    "X_scaled.shape"
   ]
  },
  {
   "cell_type": "code",
   "execution_count": 11,
   "id": "07a2e2b0",
   "metadata": {},
   "outputs": [
    {
     "name": "stderr",
     "output_type": "stream",
     "text": [
      "C:\\Users\\AoSun\\AppData\\Local\\Temp/ipykernel_21660/3513185929.py:3: SettingWithCopyWarning: \n",
      "A value is trying to be set on a copy of a slice from a DataFrame.\n",
      "Try using .loc[row_indexer,col_indexer] = value instead\n",
      "\n",
      "See the caveats in the documentation: https://pandas.pydata.org/pandas-docs/stable/user_guide/indexing.html#returning-a-view-versus-a-copy\n",
      "  X['Time'] = pd.Series(X_scaled.reshape(1, -1)[0])\n"
     ]
    }
   ],
   "source": [
    "X_scaled_csv = pd.Series(X_scaled.reshape(1,-1)[0])\n",
    "    # 将其重新格式化以导出到Kaggle\n",
    "X['Time'] = pd.Series(X_scaled.reshape(1, -1)[0])"
   ]
  },
  {
   "cell_type": "code",
   "execution_count": 12,
   "id": "11569ac2",
   "metadata": {},
   "outputs": [
    {
     "data": {
      "text/plain": [
       "<Figure size 900x600 with 0 Axes>"
      ]
     },
     "execution_count": 12,
     "metadata": {},
     "output_type": "execute_result"
    },
    {
     "data": {
      "text/plain": [
       "<matplotlib.collections.PathCollection at 0x1151ef71fd0>"
      ]
     },
     "execution_count": 12,
     "metadata": {},
     "output_type": "execute_result"
    },
    {
     "data": {
      "text/plain": [
       "Text(0.5, 0, 'Rank')"
      ]
     },
     "execution_count": 12,
     "metadata": {},
     "output_type": "execute_result"
    },
    {
     "data": {
      "text/plain": [
       "Text(0, 0.5, 'Time')"
      ]
     },
     "execution_count": 12,
     "metadata": {},
     "output_type": "execute_result"
    },
    {
     "data": {
      "image/png": "[encoded data removed]",
      "text/plain": [
       "<Figure size 900x600 with 1 Axes>"
      ]
     },
     "metadata": {
      "needs_background": "light"
     },
     "output_type": "display_data"
    }
   ],
   "source": [
    "#Visualise data points\n",
    "plt.figure(dpi=150)\n",
    "\n",
    "plt.scatter(X[\"Rank\"],X[\"Time\"],c='blue')\n",
    "plt.xlabel('Rank')\n",
    "plt.ylabel('Time')\n",
    "plt.savefig('C:\\\\Users\\AoSun\\Desktop\\cluster\\R-T cluster2.png')\n",
    "plt.show()"
   ]
  },
  {
   "cell_type": "code",
   "execution_count": 13,
   "id": "8e2a82b4",
   "metadata": {},
   "outputs": [
    {
     "data": {
      "text/plain": [
       "<Figure size 900x600 with 0 Axes>"
      ]
     },
     "execution_count": 13,
     "metadata": {},
     "output_type": "execute_result"
    },
    {
     "data": {
      "text/plain": [
       "<matplotlib.collections.PathCollection at 0x1151f205f70>"
      ]
     },
     "execution_count": 13,
     "metadata": {},
     "output_type": "execute_result"
    },
    {
     "data": {
      "text/plain": [
       "<matplotlib.collections.PathCollection at 0x1151efb15b0>"
      ]
     },
     "execution_count": 13,
     "metadata": {},
     "output_type": "execute_result"
    },
    {
     "data": {
      "text/plain": [
       "Text(0.5, 0, 'Rank')"
      ]
     },
     "execution_count": 13,
     "metadata": {},
     "output_type": "execute_result"
    },
    {
     "data": {
      "text/plain": [
       "Text(0, 0.5, 'Time')"
      ]
     },
     "execution_count": 13,
     "metadata": {},
     "output_type": "execute_result"
    },
    {
     "data": {
      "image/png": "[encoded data removed]",
      "text/plain": [
       "<Figure size 900x600 with 1 Axes>"
      ]
     },
     "metadata": {
      "needs_background": "light"
     },
     "output_type": "display_data"
    }
   ],
   "source": [
    "K=3\n",
    "\n",
    "# Select random observation as centroids\n",
    "Centroids = (X.sample(n=K)) # 随机抽样三个点\n",
    "plt.figure(dpi=150)\n",
    "\n",
    "plt.scatter(X[\"Rank\"],X[\"Time\"],c='blue')\n",
    "plt.scatter(Centroids[\"Rank\"],Centroids[\"Time\"],c='red')\n",
    "plt.xlabel('Rank')\n",
    "plt.ylabel('Time')\n",
    "plt.savefig('C:\\\\Users\\AoSun\\Desktop\\cluster\\R-T cluster3.png')\n",
    "plt.show()"
   ]
  },
  {
   "cell_type": "code",
   "execution_count": 14,
   "id": "386bcd3e",
   "metadata": {},
   "outputs": [
    {
     "name": "stdout",
     "output_type": "stream",
     "text": [
      "0.13541269964106914\n",
      "0.0\n"
     ]
    },
    {
     "name": "stderr",
     "output_type": "stream",
     "text": [
      "C:\\Users\\AoSun\\AppData\\Local\\Temp/ipykernel_21660/3930052013.py:15: SettingWithCopyWarning: \n",
      "A value is trying to be set on a copy of a slice from a DataFrame.\n",
      "Try using .loc[row_indexer,col_indexer] = value instead\n",
      "\n",
      "See the caveats in the documentation: https://pandas.pydata.org/pandas-docs/stable/user_guide/indexing.html#returning-a-view-versus-a-copy\n",
      "  X[i]=ED  # 各个点离质心距离\n"
     ]
    }
   ],
   "source": [
    "diff = 1\n",
    "j=0\n",
    "\n",
    "while(diff!=0):\n",
    "    XD=X\n",
    "    i=1 \n",
    "    for index1,row_c in Centroids.iterrows():\n",
    "        ED=[]  # 记录每个点离质心的距离\n",
    "        for index2,row_d in XD.iterrows():\n",
    "            d1=(row_c[\"Rank\"]-row_d[\"Rank\"])**2\n",
    "            d2=(row_c[\"Time\"]-row_d[\"Time\"])**2\n",
    "            d=np.sqrt(d1+d2)\n",
    "            ED.append(d)\n",
    "           \n",
    "        X[i]=ED  # 各个点离质心距离\n",
    "        i=i+1\n",
    "    \n",
    "    C=[]\n",
    "    for index,row in X.iterrows(): # 判断点离哪个质心最近\n",
    "        min_dist=row[1]\n",
    "        pos=1\n",
    "        for i in range(K):  # i从0开始\n",
    "            if row[i+1] < min_dist:\n",
    "                min_dist = row[i+1]\n",
    "                pos=i+1\n",
    "        C.append(pos)\n",
    "    X[\"Cluster\"]=C   \n",
    "    Centroids_new = X.groupby([\"Cluster\"]).mean()[[\"Time\",\"Rank\"]]  # 求各簇的质心\n",
    "    if j == 0:\n",
    "        diff=1\n",
    "        j=j+1\n",
    "    else:\n",
    "        diff = (Centroids_new['Time'] - Centroids['Time']).sum() + (Centroids_new['Rank'] - Centroids['Rank']).sum()\n",
    "        print(diff.sum())  # 质心不再改变时停止\n",
    "    Centroids = X.groupby([\"Cluster\"]).mean()[[\"Time\",\"Rank\"]]"
   ]
  },
  {
   "cell_type": "code",
   "execution_count": 15,
   "id": "0022bc8d",
   "metadata": {
    "scrolled": true
   },
   "outputs": [
    {
     "data": {
      "text/plain": [
       "<Figure size 900x600 with 0 Axes>"
      ]
     },
     "execution_count": 15,
     "metadata": {},
     "output_type": "execute_result"
    },
    {
     "data": {
      "text/plain": [
       "<matplotlib.collections.PathCollection at 0x1151f3dd880>"
      ]
     },
     "execution_count": 15,
     "metadata": {},
     "output_type": "execute_result"
    },
    {
     "data": {
      "text/plain": [
       "<matplotlib.collections.PathCollection at 0x1151cad0a00>"
      ]
     },
     "execution_count": 15,
     "metadata": {},
     "output_type": "execute_result"
    },
    {
     "data": {
      "text/plain": [
       "<matplotlib.collections.PathCollection at 0x1151f3ddee0>"
      ]
     },
     "execution_count": 15,
     "metadata": {},
     "output_type": "execute_result"
    },
    {
     "data": {
      "text/plain": [
       "<matplotlib.collections.PathCollection at 0x1151f3eb850>"
      ]
     },
     "execution_count": 15,
     "metadata": {},
     "output_type": "execute_result"
    },
    {
     "data": {
      "text/plain": [
       "Text(0.5, 0, 'Rank')"
      ]
     },
     "execution_count": 15,
     "metadata": {},
     "output_type": "execute_result"
    },
    {
     "data": {
      "text/plain": [
       "Text(0, 0.5, 'Time')"
      ]
     },
     "execution_count": 15,
     "metadata": {},
     "output_type": "execute_result"
    },
    {
     "data": {
      "image/png": "[encoded data removed]",
      "text/plain": [
       "<Figure size 900x600 with 1 Axes>"
      ]
     },
     "metadata": {
      "needs_background": "light"
     },
     "output_type": "display_data"
    }
   ],
   "source": [
    "# Step 3 - Assign all the points to the closest cluster centroid\n",
    "# Step 4 - Recompute centroids of newly formed clusters\n",
    "# Step 5 - Repeat step 3 and 4\n",
    "plt.figure(dpi=150)\n",
    "\n",
    "color=['blue','green','cyan']\n",
    "for k in range(K):\n",
    "    data=X[X[\"Cluster\"]==k+1]\n",
    "    plt.scatter(data[\"Rank\"],data[\"Time\"],c=color[k])\n",
    "plt.scatter(Centroids[\"Rank\"],Centroids[\"Time\"],c='red')\n",
    "plt.xlabel('Rank')\n",
    "plt.ylabel('Time')\n",
    "\n",
    "plt.savefig('C:\\\\Users\\AoSun\\Desktop\\cluster\\R-T cluster4.png')\n",
    "plt.show()"
   ]
  },
  {
   "cell_type": "code",
   "execution_count": null,
   "id": "30138ff5",
   "metadata": {},
   "outputs": [],
   "source": []
  }
 ],
 "metadata": {
  "kernelspec": {
   "display_name": "Python 3 (ipykernel)",
   "language": "python",
   "name": "python3"
  },
  "language_info": {
   "codemirror_mode": {
    "name": "ipython",
    "version": 3
   },
   "file_extension": ".py",
   "mimetype": "text/x-python",
   "name": "python",
   "nbconvert_exporter": "python",
   "pygments_lexer": "ipython3",
   "version": "3.8.12"
  }
 },
 "nbformat": 4,
 "nbformat_minor": 5
}
