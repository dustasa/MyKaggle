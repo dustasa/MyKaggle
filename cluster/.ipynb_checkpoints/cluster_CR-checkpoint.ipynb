{
 "cells": [
  {
   "cell_type": "code",
   "execution_count": null,
   "id": "5fa15609",
   "metadata": {},
   "outputs": [],
   "source": [
    "import pandas as pd\n",
    "import numpy as np\n",
    "import random as rd\n",
    "import matplotlib.pyplot as plt\n",
    "from IPython.core.interactiveshell import InteractiveShell  # 显示所有输出\n",
    "InteractiveShell.ast_node_interactivity = \"all\" \n",
    "\n",
    "data = pd.read_csv(\"films.csv\")\n",
    "# X = data[[\"Category\",\"Time\"]]"
   ]
  },
  {
   "cell_type": "code",
   "execution_count": null,
   "id": "23229906",
   "metadata": {},
   "outputs": [],
   "source": [
    "from sklearn import preprocessing\n",
    "le = preprocessing.LabelEncoder()\n",
    "\n",
    "features = ['Category']\n",
    "for feature in features:  \n",
    "    #非数字型和数字型标签值标准化\n",
    "    le.fit(data[feature])\n",
    "    data[feature] = le.transform(data[feature])\n",
    "data['Category']"
   ]
  },
  {
   "cell_type": "code",
   "execution_count": null,
   "id": "3f0d4cbb",
   "metadata": {},
   "outputs": [],
   "source": [
    "X = data[[\"Category\",\"Rank\"]]"
   ]
  },
  {
   "cell_type": "code",
   "execution_count": null,
   "id": "8635f9a1",
   "metadata": {},
   "outputs": [],
   "source": [
    "# from sklearn import preprocessing\n",
    "\n",
    "# X_scale = X.values[:,1]\n",
    "# scaler = preprocessing.StandardScaler().fit(X_scale.reshape(-1,1))\n",
    "# X_scaled = scaler.transform(X_scale.reshape(-1,1))\n",
    "# X_scaled_csv = pd.Series(X_scaled.reshape(1,-1)[0])\n",
    "#     # 将其重新格式化以导出到Kaggle\n",
    "# X['Box Office'] = pd.Series(X_scaled.reshape(1, -1)[0])"
   ]
  },
  {
   "cell_type": "code",
   "execution_count": null,
   "id": "55398f4b",
   "metadata": {},
   "outputs": [],
   "source": [
    "#Visualise data points\n",
    "plt.figure(dpi=150)\n",
    "\n",
    "plt.scatter(X[\"Category\"],X[\"Rank\"],c='blue')\n",
    "plt.xlabel('Category')\n",
    "plt.ylabel('Rank')\n",
    "plt.savefig('C:\\\\Users\\AoSun\\Desktop\\cluster\\C-R cluster1.png',bbox_inches = 'tight')\n",
    "plt.show()"
   ]
  },
  {
   "cell_type": "code",
   "execution_count": null,
   "id": "11569ac2",
   "metadata": {},
   "outputs": [],
   "source": [
    "#Visualise data points\n",
    "plt.figure(dpi=150)\n",
    "\n",
    "plt.scatter(X[\"Category\"],X[\"Rank\"],c='blue')\n",
    "plt.xlabel('Category')\n",
    "plt.ylabel('Rank')\n",
    "plt.savefig('C:\\\\Users\\AoSun\\Desktop\\cluster\\C-R cluster2.png')\n",
    "plt.show()"
   ]
  },
  {
   "cell_type": "code",
   "execution_count": null,
   "id": "8e2a82b4",
   "metadata": {},
   "outputs": [],
   "source": [
    "K=3\n",
    "\n",
    "# Select random observation as centroids\n",
    "Centroids = (X.sample(n=K)) # 随机抽样三个点\n",
    "plt.figure(dpi=150)\n",
    "\n",
    "plt.scatter(X[\"Category\"],X[\"Rank\"],c='blue')\n",
    "plt.scatter(Centroids[\"Category\"],Centroids[\"Rank\"],c='red')\n",
    "plt.xlabel('Category')\n",
    "plt.ylabel('Rank')\n",
    "plt.savefig('C:\\\\Users\\AoSun\\Desktop\\cluster\\C-R cluster3.png')\n",
    "plt.show()"
   ]
  },
  {
   "cell_type": "code",
   "execution_count": null,
   "id": "386bcd3e",
   "metadata": {},
   "outputs": [],
   "source": [
    "diff = 1\n",
    "j=0\n",
    "\n",
    "while(diff!=0):\n",
    "    XD=X\n",
    "    i=1 \n",
    "    for index1,row_c in Centroids.iterrows():\n",
    "        ED=[]  # 记录每个点离质心的距离\n",
    "        for index2,row_d in XD.iterrows():\n",
    "            d1=(row_c[\"Category\"]-row_d[\"Category\"])**2\n",
    "            d2=(row_c[\"Rank\"]-row_d[\"Rank\"])**2\n",
    "            d=np.sqrt(d1+d2)\n",
    "            ED.append(d)\n",
    "           \n",
    "        X[i]=ED  # 各个点离质心距离\n",
    "        i=i+1\n",
    "    \n",
    "    C=[]\n",
    "    for index,row in X.iterrows(): # 判断点离哪个质心最近\n",
    "        min_dist=row[1]\n",
    "        pos=1\n",
    "        for i in range(K):  # i从0开始\n",
    "            if row[i+1] < min_dist:\n",
    "                min_dist = row[i+1]\n",
    "                pos=i+1\n",
    "        C.append(pos)\n",
    "    X[\"Cluster\"]=C   \n",
    "    Centroids_new = X.groupby([\"Cluster\"]).mean()[[\"Rank\",\"Category\"]]  # 求各簇的质心\n",
    "    if j == 0:\n",
    "        diff=1\n",
    "        j=j+1\n",
    "    else:\n",
    "        diff = (Centroids_new['Rank'] - Centroids['Rank']).sum() + (Centroids_new['Category'] - Centroids['Category']).sum()\n",
    "        print(diff.sum())  # 质心不再改变时停止\n",
    "    Centroids = X.groupby([\"Cluster\"]).mean()[[\"Rank\",\"Category\"]]"
   ]
  },
  {
   "cell_type": "code",
   "execution_count": null,
   "id": "0022bc8d",
   "metadata": {
    "scrolled": true
   },
   "outputs": [],
   "source": [
    "# Step 3 - Assign all the points to the closest cluster centroid\n",
    "# Step 4 - Recompute centroids of newly formed clusters\n",
    "# Step 5 - Repeat step 3 and 4\n",
    "plt.figure(dpi=150)\n",
    "\n",
    "color=['blue','green','cyan']\n",
    "for k in range(K):\n",
    "    data=X[X[\"Cluster\"]==k+1]\n",
    "    plt.scatter(data[\"Category\"],data[\"Rank\"],c=color[k])\n",
    "plt.scatter(Centroids[\"Category\"],Centroids[\"Rank\"],c='red')\n",
    "plt.xlabel('Category')\n",
    "plt.ylabel('Rank')\n",
    "\n",
    "plt.savefig('C:\\\\Users\\AoSun\\Desktop\\cluster\\C-R cluster4.png')\n",
    "plt.show()"
   ]
  },
  {
   "cell_type": "code",
   "execution_count": null,
   "id": "30138ff5",
   "metadata": {},
   "outputs": [],
   "source": []
  }
 ],
 "metadata": {
  "kernelspec": {
   "display_name": "Python 3 (ipykernel)",
   "language": "python",
   "name": "python3"
  },
  "language_info": {
   "codemirror_mode": {
    "name": "ipython",
    "version": 3
   },
   "file_extension": ".py",
   "mimetype": "text/x-python",
   "name": "python",
   "nbconvert_exporter": "python",
   "pygments_lexer": "ipython3",
   "version": "3.8.12"
  }
 },
 "nbformat": 4,
 "nbformat_minor": 5
}
