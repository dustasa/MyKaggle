{
 "cells": [
  {
   "cell_type": "code",
   "execution_count": 1,
   "id": "5fa15609",
   "metadata": {},
   "outputs": [],
   "source": [
    "import pandas as pd\n",
    "import numpy as np\n",
    "import random as rd\n",
    "import matplotlib.pyplot as plt\n",
    "from IPython.core.interactiveshell import InteractiveShell  # 显示所有输出\n",
    "InteractiveShell.ast_node_interactivity = \"all\" \n",
    "\n",
    "data = pd.read_csv(\"films.csv\")\n",
    "X = data[[\"Box Office\",\"Time\"]]"
   ]
  },
  {
   "cell_type": "code",
   "execution_count": 2,
   "id": "23229906",
   "metadata": {},
   "outputs": [
    {
     "data": {
      "text/plain": [
       "LabelEncoder()"
      ]
     },
     "execution_count": 2,
     "metadata": {},
     "output_type": "execute_result"
    },
    {
     "data": {
      "text/plain": [
       "0      2\n",
       "1      2\n",
       "2      6\n",
       "3     24\n",
       "4      4\n",
       "5     25\n",
       "6     28\n",
       "7     19\n",
       "8      2\n",
       "9      0\n",
       "10    21\n",
       "11    12\n",
       "12    20\n",
       "13    23\n",
       "14     9\n",
       "15     7\n",
       "16     1\n",
       "17     8\n",
       "18    15\n",
       "19     2\n",
       "20    27\n",
       "21    10\n",
       "22    18\n",
       "23    11\n",
       "24    14\n",
       "25     3\n",
       "26     2\n",
       "27    26\n",
       "28     2\n",
       "29    29\n",
       "30    29\n",
       "31    16\n",
       "32    22\n",
       "33     2\n",
       "34     2\n",
       "35    30\n",
       "36     2\n",
       "37    17\n",
       "38    13\n",
       "39     5\n",
       "40     2\n",
       "41    29\n",
       "42     2\n",
       "43    31\n",
       "44    29\n",
       "45    31\n",
       "46    31\n",
       "Name: Category, dtype: int32"
      ]
     },
     "execution_count": 2,
     "metadata": {},
     "output_type": "execute_result"
    }
   ],
   "source": [
    "# from sklearn import preprocessing\n",
    "# le = preprocessing.LabelEncoder()\n",
    "\n",
    "# features = ['Category']\n",
    "# for feature in features:  \n",
    "#     #非数字型和数字型标签值标准化\n",
    "#     le.fit(data[feature])\n",
    "#     data[feature] = le.transform(data[feature])\n",
    "# data['Category']"
   ]
  },
  {
   "cell_type": "code",
   "execution_count": 2,
   "id": "8635f9a1",
   "metadata": {},
   "outputs": [
    {
     "name": "stderr",
     "output_type": "stream",
     "text": [
      "C:\\Users\\AoSun\\AppData\\Local\\Temp/ipykernel_19516/2729167585.py:8: SettingWithCopyWarning: \n",
      "A value is trying to be set on a copy of a slice from a DataFrame.\n",
      "Try using .loc[row_indexer,col_indexer] = value instead\n",
      "\n",
      "See the caveats in the documentation: https://pandas.pydata.org/pandas-docs/stable/user_guide/indexing.html#returning-a-view-versus-a-copy\n",
      "  X['Box Office'] = pd.Series(X_scaled.reshape(1, -1)[0])\n"
     ]
    }
   ],
   "source": [
    "from sklearn import preprocessing\n",
    "\n",
    "X_scale = X.values[:,1]\n",
    "scaler = preprocessing.StandardScaler().fit(X_scale.reshape(-1,1))\n",
    "X_scaled = scaler.transform(X_scale.reshape(-1,1))\n",
    "X_scaled_csv = pd.Series(X_scaled.reshape(1,-1)[0])\n",
    "    # 将其重新格式化以导出到Kaggle\n",
    "X['Box Office'] = pd.Series(X_scaled.reshape(1, -1)[0])"
   ]
  },
  {
   "cell_type": "code",
   "execution_count": 3,
   "id": "55398f4b",
   "metadata": {},
   "outputs": [
    {
     "data": {
      "text/plain": [
       "<Figure size 900x600 with 0 Axes>"
      ]
     },
     "execution_count": 3,
     "metadata": {},
     "output_type": "execute_result"
    },
    {
     "data": {
      "text/plain": [
       "<matplotlib.collections.PathCollection at 0x200674ed970>"
      ]
     },
     "execution_count": 3,
     "metadata": {},
     "output_type": "execute_result"
    },
    {
     "data": {
      "text/plain": [
       "Text(0.5, 0, 'Time')"
      ]
     },
     "execution_count": 3,
     "metadata": {},
     "output_type": "execute_result"
    },
    {
     "data": {
      "text/plain": [
       "Text(0, 0.5, 'Box Office (scaled)')"
      ]
     },
     "execution_count": 3,
     "metadata": {},
     "output_type": "execute_result"
    },
    {
     "data": {
      "image/png": "[encoded data removed]",
      "text/plain": [
       "<Figure size 900x600 with 1 Axes>"
      ]
     },
     "metadata": {
      "needs_background": "light"
     },
     "output_type": "display_data"
    }
   ],
   "source": [
    "#Visualise data points\n",
    "plt.figure(dpi=150)\n",
    "\n",
    "plt.scatter(X[\"Time\"],X[\"Box Office\"],c='blue')\n",
    "plt.xlabel('Time')\n",
    "plt.ylabel('Box Office (scaled)')\n",
    "plt.savefig('C:\\\\Users\\AoSun\\Desktop\\cluster\\T-B cluster1.png',bbox_inches = 'tight')\n",
    "plt.show()"
   ]
  },
  {
   "cell_type": "code",
   "execution_count": 9,
   "id": "11569ac2",
   "metadata": {},
   "outputs": [
    {
     "data": {
      "text/plain": [
       "<Figure size 900x600 with 0 Axes>"
      ]
     },
     "execution_count": 9,
     "metadata": {},
     "output_type": "execute_result"
    },
    {
     "data": {
      "text/plain": [
       "<matplotlib.collections.PathCollection at 0x267758ffb20>"
      ]
     },
     "execution_count": 9,
     "metadata": {},
     "output_type": "execute_result"
    },
    {
     "data": {
      "text/plain": [
       "Text(0.5, 0, 'Category')"
      ]
     },
     "execution_count": 9,
     "metadata": {},
     "output_type": "execute_result"
    },
    {
     "data": {
      "text/plain": [
       "Text(0, 0.5, 'Box Office')"
      ]
     },
     "execution_count": 9,
     "metadata": {},
     "output_type": "execute_result"
    },
    {
     "data": {
      "image/png": "[encoded data removed]",
      "text/plain": [
       "<Figure size 900x600 with 1 Axes>"
      ]
     },
     "metadata": {
      "needs_background": "light"
     },
     "output_type": "display_data"
    }
   ],
   "source": [
    "#Visualise data points\n",
    "plt.figure(dpi=150)\n",
    "\n",
    "plt.scatter(X[\"Time\"],X[\"Box Office\"],c='blue')\n",
    "plt.xlabel('Time')\n",
    "plt.ylabel('Box Office')\n",
    "plt.savefig('C:\\\\Users\\AoSun\\Desktop\\cluster\\T-B cluster2.png')\n",
    "plt.show()"
   ]
  },
  {
   "cell_type": "code",
   "execution_count": 10,
   "id": "8e2a82b4",
   "metadata": {},
   "outputs": [
    {
     "data": {
      "text/plain": [
       "<Figure size 900x600 with 0 Axes>"
      ]
     },
     "execution_count": 10,
     "metadata": {},
     "output_type": "execute_result"
    },
    {
     "data": {
      "text/plain": [
       "<matplotlib.collections.PathCollection at 0x2677532dfa0>"
      ]
     },
     "execution_count": 10,
     "metadata": {},
     "output_type": "execute_result"
    },
    {
     "data": {
      "text/plain": [
       "<matplotlib.collections.PathCollection at 0x2677533c850>"
      ]
     },
     "execution_count": 10,
     "metadata": {},
     "output_type": "execute_result"
    },
    {
     "data": {
      "text/plain": [
       "Text(0.5, 0, 'Category')"
      ]
     },
     "execution_count": 10,
     "metadata": {},
     "output_type": "execute_result"
    },
    {
     "data": {
      "text/plain": [
       "Text(0, 0.5, 'Box Office')"
      ]
     },
     "execution_count": 10,
     "metadata": {},
     "output_type": "execute_result"
    },
    {
     "data": {
      "image/png": "[encoded data removed]",
      "text/plain": [
       "<Figure size 900x600 with 1 Axes>"
      ]
     },
     "metadata": {
      "needs_background": "light"
     },
     "output_type": "display_data"
    }
   ],
   "source": [
    "K=3\n",
    "\n",
    "# Select random observation as centroids\n",
    "Centroids = (X.sample(n=K)) # 随机抽样三个点\n",
    "plt.figure(dpi=150)\n",
    "\n",
    "plt.scatter(X[\"Time\"],X[\"Box Office\"],c='blue')\n",
    "plt.scatter(Centroids[\"Time\"],Centroids[\"Box Office\"],c='red')\n",
    "plt.xlabel('Time')\n",
    "plt.ylabel('Box Office')\n",
    "plt.savefig('C:\\\\Users\\AoSun\\Desktop\\cluster\\T-B cluster3.png')\n",
    "plt.show()"
   ]
  },
  {
   "cell_type": "code",
   "execution_count": 11,
   "id": "386bcd3e",
   "metadata": {},
   "outputs": [
    {
     "name": "stdout",
     "output_type": "stream",
     "text": [
      "1.1368511094180638\n",
      "1.676839922014562\n",
      "0.0\n"
     ]
    },
    {
     "name": "stderr",
     "output_type": "stream",
     "text": [
      "C:\\Users\\AoSun\\AppData\\Local\\Temp/ipykernel_156/422666000.py:15: SettingWithCopyWarning: \n",
      "A value is trying to be set on a copy of a slice from a DataFrame.\n",
      "Try using .loc[row_indexer,col_indexer] = value instead\n",
      "\n",
      "See the caveats in the documentation: https://pandas.pydata.org/pandas-docs/stable/user_guide/indexing.html#returning-a-view-versus-a-copy\n",
      "  X[i]=ED  # 各个点离质心距离\n"
     ]
    }
   ],
   "source": [
    "diff = 1\n",
    "j=0\n",
    "\n",
    "while(diff!=0):\n",
    "    XD=X\n",
    "    i=1 \n",
    "    for index1,row_c in Centroids.iterrows():\n",
    "        ED=[]  # 记录每个点离质心的距离\n",
    "        for index2,row_d in XD.iterrows():\n",
    "            d1=(row_c[\"Time\"]-row_d[\"Time\"])**2\n",
    "            d2=(row_c[\"Box Office\"]-row_d[\"Box Office\"])**2\n",
    "            d=np.sqrt(d1+d2)\n",
    "            ED.append(d)\n",
    "           \n",
    "        X[i]=ED  # 各个点离质心距离\n",
    "        i=i+1\n",
    "    \n",
    "    C=[]\n",
    "    for index,row in X.iterrows(): # 判断点离哪个质心最近\n",
    "        min_dist=row[1]\n",
    "        pos=1\n",
    "        for i in range(K):  # i从0开始\n",
    "            if row[i+1] < min_dist:\n",
    "                min_dist = row[i+1]\n",
    "                pos=i+1\n",
    "        C.append(pos)\n",
    "    X[\"Cluster\"]=C   \n",
    "    Centroids_new = X.groupby([\"Cluster\"]).mean()[[\"Time\",\"Category\"]]  # 求各簇的质心\n",
    "    if j == 0:\n",
    "        diff=1\n",
    "        j=j+1\n",
    "    else:\n",
    "        diff = (Centroids_new['Box Office'] - Centroids['Box Office']).sum() + (Centroids_new['Category'] - Centroids['Category']).sum()\n",
    "        print(diff.sum())  # 质心不再改变时停止\n",
    "    Centroids = X.groupby([\"Cluster\"]).mean()[[\"Box Office\",\"Category\"]]"
   ]
  },
  {
   "cell_type": "code",
   "execution_count": 12,
   "id": "0022bc8d",
   "metadata": {
    "scrolled": true
   },
   "outputs": [
    {
     "data": {
      "text/plain": [
       "<Figure size 900x600 with 0 Axes>"
      ]
     },
     "execution_count": 12,
     "metadata": {},
     "output_type": "execute_result"
    },
    {
     "data": {
      "text/plain": [
       "<matplotlib.collections.PathCollection at 0x267753bafa0>"
      ]
     },
     "execution_count": 12,
     "metadata": {},
     "output_type": "execute_result"
    },
    {
     "data": {
      "text/plain": [
       "<matplotlib.collections.PathCollection at 0x26772e44850>"
      ]
     },
     "execution_count": 12,
     "metadata": {},
     "output_type": "execute_result"
    },
    {
     "data": {
      "text/plain": [
       "<matplotlib.collections.PathCollection at 0x267753c5880>"
      ]
     },
     "execution_count": 12,
     "metadata": {},
     "output_type": "execute_result"
    },
    {
     "data": {
      "text/plain": [
       "<matplotlib.collections.PathCollection at 0x267753c5fd0>"
      ]
     },
     "execution_count": 12,
     "metadata": {},
     "output_type": "execute_result"
    },
    {
     "data": {
      "text/plain": [
       "Text(0.5, 0, 'Category')"
      ]
     },
     "execution_count": 12,
     "metadata": {},
     "output_type": "execute_result"
    },
    {
     "data": {
      "text/plain": [
       "Text(0, 0.5, 'Box Office')"
      ]
     },
     "execution_count": 12,
     "metadata": {},
     "output_type": "execute_result"
    },
    {
     "data": {
      "image/png": "[encoded data removed]",
      "text/plain": [
       "<Figure size 900x600 with 1 Axes>"
      ]
     },
     "metadata": {
      "needs_background": "light"
     },
     "output_type": "display_data"
    }
   ],
   "source": [
    "# Step 3 - Assign all the points to the closest cluster centroid\n",
    "# Step 4 - Recompute centroids of newly formed clusters\n",
    "# Step 5 - Repeat step 3 and 4\n",
    "plt.figure(dpi=150)\n",
    "\n",
    "color=['blue','green','cyan']\n",
    "for k in range(K):\n",
    "    data=X[X[\"Cluster\"]==k+1]\n",
    "    plt.scatter(data[\"Category\"],data[\"Box Office\"],c=color[k])\n",
    "plt.scatter(Centroids[\"Category\"],Centroids[\"Box Office\"],c='red')\n",
    "plt.xlabel('Category')\n",
    "plt.ylabel('Box Office')\n",
    "\n",
    "plt.savefig('C:\\\\Users\\AoSun\\Desktop\\cluster\\C-B cluster4.png')\n",
    "plt.show()"
   ]
  },
  {
   "cell_type": "code",
   "execution_count": null,
   "id": "30138ff5",
   "metadata": {},
   "outputs": [],
   "source": []
  }
 ],
 "metadata": {
  "kernelspec": {
   "display_name": "Python 3 (ipykernel)",
   "language": "python",
   "name": "python3"
  },
  "language_info": {
   "codemirror_mode": {
    "name": "ipython",
    "version": 3
   },
   "file_extension": ".py",
   "mimetype": "text/x-python",
   "name": "python",
   "nbconvert_exporter": "python",
   "pygments_lexer": "ipython3",
   "version": "3.8.12"
  }
 },
 "nbformat": 4,
 "nbformat_minor": 5
}
